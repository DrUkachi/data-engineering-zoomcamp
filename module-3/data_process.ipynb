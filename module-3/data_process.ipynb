{
 "cells": [
  {
   "cell_type": "code",
   "execution_count": 1,
   "metadata": {},
   "outputs": [
    {
     "name": "stdout",
     "output_type": "stream",
     "text": [
      "data_process.ipynb\t\t yellow_tripdata_2024-03.parquet\n",
      "load_yellow_taxi_data.py\t yellow_tripdata_2024-04.parquet\n",
      "yellow_tripdata_2024-01.parquet  yellow_tripdata_2024-05.parquet\n",
      "yellow_tripdata_2024-02.parquet  yellow_tripdata_2024-06.parquet\n"
     ]
    }
   ],
   "source": [
    "!ls\n"
   ]
  },
  {
   "cell_type": "code",
   "execution_count": 3,
   "metadata": {},
   "outputs": [
    {
     "name": "stdout",
     "output_type": "stream",
     "text": [
      "Collecting pyarrow\n",
      "  Downloading pyarrow-19.0.0-cp310-cp310-manylinux_2_28_x86_64.whl.metadata (3.3 kB)\n",
      "Downloading pyarrow-19.0.0-cp310-cp310-manylinux_2_28_x86_64.whl (42.1 MB)\n",
      "\u001b[2K   \u001b[90m━━━━━━━━━━━━━━━━━━━━━━━━━━━━━━━━━━━━━━━━\u001b[0m \u001b[32m42.1/42.1 MB\u001b[0m \u001b[31m223.0 MB/s\u001b[0m eta \u001b[36m0:00:00\u001b[0m\n",
      "\u001b[?25hInstalling collected packages: pyarrow\n",
      "Successfully installed pyarrow-19.0.0\n",
      "\n",
      "\u001b[1m[\u001b[0m\u001b[34;49mnotice\u001b[0m\u001b[1;39;49m]\u001b[0m\u001b[39;49m A new release of pip is available: \u001b[0m\u001b[31;49m24.3.1\u001b[0m\u001b[39;49m -> \u001b[0m\u001b[32;49m25.0.1\u001b[0m\n",
      "\u001b[1m[\u001b[0m\u001b[34;49mnotice\u001b[0m\u001b[1;39;49m]\u001b[0m\u001b[39;49m To update, run: \u001b[0m\u001b[32;49mpip install --upgrade pip\u001b[0m\n"
     ]
    }
   ],
   "source": [
    "!pip install pyarrow"
   ]
  },
  {
   "cell_type": "code",
   "execution_count": 4,
   "metadata": {},
   "outputs": [
    {
     "name": "stdout",
     "output_type": "stream",
     "text": [
      "   VendorID tpep_pickup_datetime tpep_dropoff_datetime  passenger_count  \\\n",
      "0         1  2024-06-01 00:03:46   2024-06-01 00:31:23              1.0   \n",
      "1         2  2024-06-01 00:55:22   2024-06-01 01:08:24              1.0   \n",
      "2         1  2024-06-01 00:23:53   2024-06-01 00:32:35              1.0   \n",
      "3         1  2024-06-01 00:32:24   2024-06-01 00:40:06              1.0   \n",
      "4         1  2024-06-01 00:51:38   2024-06-01 00:58:17              1.0   \n",
      "\n",
      "   trip_distance  RatecodeID store_and_fwd_flag  PULocationID  DOLocationID  \\\n",
      "0          12.50         1.0                  N           138           195   \n",
      "1           4.34         1.0                  N           138             7   \n",
      "2           1.30         1.0                  N           166            41   \n",
      "3           1.20         1.0                  N           148           114   \n",
      "4           1.00         1.0                  N           148           249   \n",
      "\n",
      "   payment_type  fare_amount  extra  mta_tax  tip_amount  tolls_amount  \\\n",
      "0             1         48.5   7.75      0.5       11.55           0.0   \n",
      "1             1         20.5   6.00      0.5        8.40           0.0   \n",
      "2             1         10.0   1.00      0.5        3.10           0.0   \n",
      "3             1          8.6   3.50      0.5        0.20           0.0   \n",
      "4             1          7.2   3.50      0.5        2.00           0.0   \n",
      "\n",
      "   improvement_surcharge  total_amount  congestion_surcharge  Airport_fee  \n",
      "0                    1.0         69.30                   0.0         1.75  \n",
      "1                    1.0         38.15                   0.0         1.75  \n",
      "2                    1.0         15.60                   0.0         0.00  \n",
      "3                    1.0         13.80                   2.5         0.00  \n",
      "4                    1.0         14.20                   2.5         0.00  \n"
     ]
    }
   ],
   "source": [
    "import pandas as pd\n",
    "import glob\n",
    "\n",
    "# Define the pattern to match all Parquet files\n",
    "parquet_files = glob.glob(\"yellow_tripdata_2024-*.parquet\")\n",
    "\n",
    "# Read all Parquet files and concatenate them into one DataFrame\n",
    "df = pd.concat((pd.read_parquet(file) for file in parquet_files), ignore_index=True)\n",
    "\n",
    "# Display the first few rows\n",
    "print(df.head())"
   ]
  },
  {
   "cell_type": "code",
   "execution_count": 7,
   "metadata": {},
   "outputs": [
    {
     "data": {
      "text/plain": [
       "(20332093, 19)"
      ]
     },
     "execution_count": 7,
     "metadata": {},
     "output_type": "execute_result"
    }
   ],
   "source": [
    "df.shape"
   ]
  },
  {
   "cell_type": "code",
   "execution_count": 6,
   "metadata": {},
   "outputs": [
    {
     "name": "stdout",
     "output_type": "stream",
     "text": [
      "Total size of Parquet files: 326.10 MB\n"
     ]
    }
   ],
   "source": [
    "import os\n",
    "\n",
    "\n",
    "# Get all Parquet files matching the pattern\n",
    "parquet_files = glob.glob(\"yellow_tripdata_2024-*.parquet\")\n",
    "\n",
    "# Calculate total size in bytes\n",
    "total_size = sum(os.path.getsize(file) for file in parquet_files)\n",
    "\n",
    "# Convert size to megabytes (MB)\n",
    "total_size_mb = total_size / (1024 * 1024)\n",
    "\n",
    "print(f\"Total size of Parquet files: {total_size_mb:.2f} MB\")\n"
   ]
  },
  {
   "cell_type": "code",
   "execution_count": 8,
   "metadata": {},
   "outputs": [
    {
     "data": {
      "text/plain": [
       "Index(['VendorID', 'tpep_pickup_datetime', 'tpep_dropoff_datetime',\n",
       "       'passenger_count', 'trip_distance', 'RatecodeID', 'store_and_fwd_flag',\n",
       "       'PULocationID', 'DOLocationID', 'payment_type', 'fare_amount', 'extra',\n",
       "       'mta_tax', 'tip_amount', 'tolls_amount', 'improvement_surcharge',\n",
       "       'total_amount', 'congestion_surcharge', 'Airport_fee'],\n",
       "      dtype='object')"
      ]
     },
     "execution_count": 8,
     "metadata": {},
     "output_type": "execute_result"
    }
   ],
   "source": [
    "df.columns"
   ]
  },
  {
   "cell_type": "code",
   "execution_count": 9,
   "metadata": {},
   "outputs": [
    {
     "name": "stdout",
     "output_type": "stream",
     "text": [
      "Number of records with fare_amount = 0: 8333\n"
     ]
    }
   ],
   "source": [
    "zero_fare_count = df[df[\"fare_amount\"] == 0].shape[0]\n",
    "print(f\"Number of records with fare_amount = 0: {zero_fare_count}\")"
   ]
  }
 ],
 "metadata": {
  "language_info": {
   "name": "python"
  }
 },
 "nbformat": 4,
 "nbformat_minor": 2
}
